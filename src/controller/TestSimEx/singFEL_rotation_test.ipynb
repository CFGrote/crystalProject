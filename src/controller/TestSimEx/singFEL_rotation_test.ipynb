{
 "cells": [
  {
   "cell_type": "code",
   "execution_count": 1,
   "metadata": {},
   "outputs": [
    {
     "name": "stdout",
     "output_type": "stream",
     "text": [
      "initializing ocelot...\n",
      "\n",
      "WARNING: esther_execute could not be imported. This is most probably due to Esther not being installed or not found. Expect RunTimeErrors when attempting to run the EstherPhotonMatterInteractor.backengine().\n"
     ]
    }
   ],
   "source": [
    "import os,shutil\n",
    "from SimEx.Parameters.DetectorGeometry import DetectorGeometry, DetectorPanel\n",
    "from SimEx.Utilities.Units import meter, electronvolt, joule, radian\n",
    "from pysingfel.radiationDamage import generateRotations, rotateParticle"
   ]
  },
  {
   "cell_type": "markdown",
   "metadata": {},
   "source": [
    "## Detector Setting"
   ]
  },
  {
   "cell_type": "code",
   "execution_count": 2,
   "metadata": {},
   "outputs": [],
   "source": [
    "p0 = DetectorPanel(\n",
    "            ranges={\n",
    "                'fast_scan_min': 0,\n",
    "                'fast_scan_max': 100,\n",
    "                'slow_scan_min': 0,\n",
    "                'slow_scan_max': 100\n",
    "            },\n",
    "            pixel_size=2200e-6 * meter,\n",
    "            photon_response=1.0,\n",
    "            distance_from_interaction_plane=0.13 * meter,\n",
    "            corners={\n",
    "                'x': -50,\n",
    "                'y': 5\n",
    "            },\n",
    "            fast_scan_xyz = '1.0x',\n",
    "            slow_scan_xyz = '1.0y'\n",
    "        )\n",
    "p1 = DetectorPanel(\n",
    "            ranges={\n",
    "                'fast_scan_min': 0,\n",
    "                'fast_scan_max': 100,\n",
    "                'slow_scan_min': 0,\n",
    "                'slow_scan_max': 100\n",
    "            },\n",
    "            pixel_size=2200e-6 * meter,\n",
    "            photon_response=1.0,\n",
    "            distance_from_interaction_plane=0.25 * meter,\n",
    "            corners={\n",
    "                'x': -50,\n",
    "                'y': -105\n",
    "            },\n",
    "            fast_scan_xyz = '1.0x',\n",
    "            slow_scan_xyz = '1.0y'\n",
    "        )\n",
    "detector_geometry = DetectorGeometry(panels=[p0,p1])"
   ]
  },
  {
   "cell_type": "code",
   "execution_count": 3,
   "metadata": {},
   "outputs": [
    {
     "data": {
      "text/plain": [
       "2"
      ]
     },
     "execution_count": 3,
     "metadata": {},
     "output_type": "execute_result"
    }
   ],
   "source": [
    "len(detector_geometry.panels)"
   ]
  },
  {
   "cell_type": "code",
   "execution_count": 2,
   "metadata": {},
   "outputs": [],
   "source": [
    "quaternions = generateRotations(\n",
    "                self.parameters.uniform_rotation,\n",
    "                'xyz',\n",
    "                self.parameters.number_of_diffraction_patterns,\n",
    "               )"
   ]
  },
  {
   "cell_type": "code",
   "execution_count": 3,
   "metadata": {},
   "outputs": [],
   "source": [
    "generateRotations??"
   ]
  }
 ],
 "metadata": {
  "kernelspec": {
   "display_name": "Python 3",
   "language": "python",
   "name": "python3"
  },
  "language_info": {
   "codemirror_mode": {
    "name": "ipython",
    "version": 3
   },
   "file_extension": ".py",
   "mimetype": "text/x-python",
   "name": "python",
   "nbconvert_exporter": "python",
   "pygments_lexer": "ipython3",
   "version": "3.6.7"
  }
 },
 "nbformat": 4,
 "nbformat_minor": 4
}
