{
 "cells": [
  {
   "cell_type": "code",
   "execution_count": 13,
   "metadata": {},
   "outputs": [
    {
     "ename": "ModuleNotFoundError",
     "evalue": "No module named 'pysingfel'",
     "output_type": "error",
     "traceback": [
      "\u001b[0;31m---------------------------------------------------------------------------\u001b[0m",
      "\u001b[0;31mModuleNotFoundError\u001b[0m                       Traceback (most recent call last)",
      "\u001b[0;32m<ipython-input-13-0185ad524fa9>\u001b[0m in \u001b[0;36m<module>\u001b[0;34m\u001b[0m\n\u001b[1;32m      2\u001b[0m \u001b[0;32mfrom\u001b[0m \u001b[0mSimEx\u001b[0m\u001b[0;34m.\u001b[0m\u001b[0mParameters\u001b[0m\u001b[0;34m.\u001b[0m\u001b[0mDetectorGeometry\u001b[0m \u001b[0;32mimport\u001b[0m \u001b[0mDetectorGeometry\u001b[0m\u001b[0;34m,\u001b[0m \u001b[0mDetectorPanel\u001b[0m\u001b[0;34m\u001b[0m\u001b[0;34m\u001b[0m\u001b[0m\n\u001b[1;32m      3\u001b[0m \u001b[0;32mfrom\u001b[0m \u001b[0mSimEx\u001b[0m\u001b[0;34m.\u001b[0m\u001b[0mUtilities\u001b[0m\u001b[0;34m.\u001b[0m\u001b[0mUnits\u001b[0m \u001b[0;32mimport\u001b[0m \u001b[0mmeter\u001b[0m\u001b[0;34m,\u001b[0m \u001b[0melectronvolt\u001b[0m\u001b[0;34m,\u001b[0m \u001b[0mjoule\u001b[0m\u001b[0;34m,\u001b[0m \u001b[0mradian\u001b[0m\u001b[0;34m\u001b[0m\u001b[0;34m\u001b[0m\u001b[0m\n\u001b[0;32m----> 4\u001b[0;31m \u001b[0;32mfrom\u001b[0m \u001b[0mSimEx\u001b[0m\u001b[0;34m.\u001b[0m\u001b[0mCalculators\u001b[0m\u001b[0;34m.\u001b[0m\u001b[0mSingFELPhotonDiffractor\u001b[0m \u001b[0;32mimport\u001b[0m \u001b[0mSingFELPhotonDiffractor\u001b[0m\u001b[0;34m\u001b[0m\u001b[0;34m\u001b[0m\u001b[0m\n\u001b[0m",
      "\u001b[0;32m~/Desktop/EuXFEL/SimEX/Sources/python/SimEx/Calculators/SingFELPhotonDiffractor.py\u001b[0m in \u001b[0;36m<module>\u001b[0;34m\u001b[0m\n\u001b[1;32m     21\u001b[0m \u001b[0;31m##########################################################################\u001b[0m\u001b[0;34m\u001b[0m\u001b[0;34m\u001b[0m\u001b[0;34m\u001b[0m\u001b[0m\n\u001b[1;32m     22\u001b[0m \u001b[0;34m\u001b[0m\u001b[0m\n\u001b[0;32m---> 23\u001b[0;31m \u001b[0;32mfrom\u001b[0m \u001b[0mpysingfel\u001b[0m\u001b[0;34m.\u001b[0m\u001b[0mFileIO\u001b[0m \u001b[0;32mimport\u001b[0m \u001b[0msaveAsDiffrOutFile\u001b[0m\u001b[0;34m,\u001b[0m \u001b[0mprepH5\u001b[0m\u001b[0;34m\u001b[0m\u001b[0;34m\u001b[0m\u001b[0m\n\u001b[0m\u001b[1;32m     24\u001b[0m \u001b[0;32mfrom\u001b[0m \u001b[0mpysingfel\u001b[0m\u001b[0;34m.\u001b[0m\u001b[0mbeam\u001b[0m \u001b[0;32mimport\u001b[0m \u001b[0mBeam\u001b[0m\u001b[0;34m\u001b[0m\u001b[0;34m\u001b[0m\u001b[0m\n\u001b[1;32m     25\u001b[0m \u001b[0;32mfrom\u001b[0m \u001b[0mpysingfel\u001b[0m\u001b[0;34m.\u001b[0m\u001b[0mdetector\u001b[0m \u001b[0;32mimport\u001b[0m \u001b[0mDetector\u001b[0m\u001b[0;34m\u001b[0m\u001b[0;34m\u001b[0m\u001b[0m\n",
      "\u001b[0;31mModuleNotFoundError\u001b[0m: No module named 'pysingfel'"
     ]
    }
   ],
   "source": [
    "import os,shutil\n",
    "from SimEx.Parameters.DetectorGeometry import DetectorGeometry, DetectorPanel\n",
    "from SimEx.Utilities.Units import meter, electronvolt, joule, radian"
   ]
  },
  {
   "cell_type": "markdown",
   "metadata": {},
   "source": [
    "## Gaussian photon source"
   ]
  },
  {
   "cell_type": "markdown",
   "metadata": {},
   "source": [
    "## Photon-mater-interaction"
   ]
  },
  {
   "cell_type": "code",
   "execution_count": null,
   "metadata": {},
   "outputs": [],
   "source": [
    "pmi_parameters={\"number_of_trajectories\" : 1,\n",
    "                \"random_rotation\" : False}\n",
    "photon_matter_interactor=XMDYNDemoPhotonMatterInteractor(parameters=pmi_parameters,\n",
    "                                                         input_path=prop_path,\n",
    "                                                         output_path='pmi',\n",
    "                                                         sample_path='3WUL.pdb')"
   ]
  },
  {
   "cell_type": "markdown",
   "metadata": {},
   "source": [
    "## Detector Setting"
   ]
  },
  {
   "cell_type": "code",
   "execution_count": 5,
   "metadata": {},
   "outputs": [],
   "source": [
    "p0 = DetectorPanel(\n",
    "            ranges={\n",
    "                'fast_scan_min': 0,\n",
    "                'fast_scan_max': 100,\n",
    "                'slow_scan_min': 0,\n",
    "                'slow_scan_max': 100\n",
    "            },\n",
    "            pixel_size=2200e-6 * meter,\n",
    "            photon_response=1.0,\n",
    "            distance_from_interaction_plane=0.13 * meter,\n",
    "            corners={\n",
    "                'x': -50,\n",
    "                'y': 5\n",
    "            },\n",
    "            fast_scan_xyz = '1.0x',\n",
    "            slow_scan_xyz = '1.0y'\n",
    "        )\n",
    "p1 = DetectorPanel(\n",
    "            ranges={\n",
    "                'fast_scan_min': 0,\n",
    "                'fast_scan_max': 100,\n",
    "                'slow_scan_min': 0,\n",
    "                'slow_scan_max': 100\n",
    "            },\n",
    "            pixel_size=2200e-6 * meter,\n",
    "            photon_response=1.0,\n",
    "            distance_from_interaction_plane=0.25 * meter,\n",
    "            corners={\n",
    "                'x': -50,\n",
    "                'y': -105\n",
    "            },\n",
    "            fast_scan_xyz = '1.0x',\n",
    "            slow_scan_xyz = '1.0y'\n",
    "        )\n",
    "detector_geometry = DetectorGeometry(panels=[p0,p1])"
   ]
  },
  {
   "cell_type": "code",
   "execution_count": 10,
   "metadata": {},
   "outputs": [
    {
     "name": "stdout",
     "output_type": "stream",
     "text": [
      ";panel 0\n",
      "panel0/min_fs         = 0\n",
      "panel0/max_fs         = 100\n",
      "panel0/min_ss         = 0\n",
      "panel0/max_ss         = 100\n",
      "panel0/corner_y       = 5\n",
      "panel0/fs             = 1.0x\n",
      "panel0/ss             = 1.0y\n",
      "panel0/clen           = 1.3000000e-01\n",
      "panel0/res            = 4.5454545e+02\n",
      "panel0/coffset        = 0.0000000e+00\n",
      "panel0/adu_per_photon = 1.0000000e+00\n",
      "panel0/max_adu        = 1.0000000e+04\n",
      "panel0/px             = 101\n",
      "panel0/py             = 101\n",
      "panel0/pix_width      = 2.2000000e-03\n",
      "panel0/d              = 1.3000000e-01\n",
      "panel0/corner_x       = -50\n",
      "\n",
      ";panel 1\n",
      "panel1/min_fs         = 0\n",
      "panel1/max_fs         = 100\n",
      "panel1/min_ss         = 0\n",
      "panel1/max_ss         = 100\n",
      "panel1/corner_y       = -105\n",
      "panel1/fs             = 1.0x\n",
      "panel1/ss             = 1.0y\n",
      "panel1/clen           = 2.5000000e-01\n",
      "panel1/res            = 4.5454545e+02\n",
      "panel1/coffset        = 0.0000000e+00\n",
      "panel1/adu_per_photon = 1.0000000e+00\n",
      "panel1/max_adu        = 1.0000000e+04\n",
      "panel1/px             = 101\n",
      "panel1/py             = 101\n",
      "panel1/pix_width      = 2.2000000e-03\n",
      "panel1/d              = 2.5000000e-01\n",
      "panel1/corner_x       = -50\n",
      "\n"
     ]
    }
   ],
   "source": [
    "detector_geometry.serialize()"
   ]
  },
  {
   "cell_type": "code",
   "execution_count": null,
   "metadata": {},
   "outputs": [],
   "source": [
    "diffraction_parameters = SingFELPhotonDiffractorParameters(\n",
    "                                               uniform_rotation=False,\n",
    "                                               slice_interval=100,\n",
    "                                               number_of_slices=100,\n",
    "                                               number_of_diffraction_patterns=1,\n",
    "                                               detector_geometry=detector_geometry\n",
    "                                              )"
   ]
  }
 ],
 "metadata": {
  "kernelspec": {
   "display_name": "Python 3",
   "language": "python",
   "name": "python3"
  },
  "language_info": {
   "codemirror_mode": {
    "name": "ipython",
    "version": 3
   },
   "file_extension": ".py",
   "mimetype": "text/x-python",
   "name": "python",
   "nbconvert_exporter": "python",
   "pygments_lexer": "ipython3",
   "version": "3.6.10"
  }
 },
 "nbformat": 4,
 "nbformat_minor": 4
}
