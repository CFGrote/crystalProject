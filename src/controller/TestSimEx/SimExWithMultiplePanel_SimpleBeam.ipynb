{
 "cells": [
  {
   "cell_type": "code",
   "execution_count": null,
   "metadata": {},
   "outputs": [],
   "source": [
    "import os,shutil\n",
    "import h5py\n",
    "from h5glance import H5Glance\n",
    "import matplotlib.pyplot as plt\n",
    "\n",
    "# Helpers\n",
    "from SimEx.Utilities.Units import meter, electronvolt, joule, radian\n",
    "\n",
    "# PMI\n",
    "from SimEx.Calculators.XMDYNDemoPhotonMatterInteractor import XMDYNDemoPhotonMatterInteractor\n",
    "\n",
    "# Simple Beam Parameters\n",
    "from SimEx.Parameters.PhotonBeamParameters import PhotonBeamParameters\n",
    "\n",
    "# Diffraction\n",
    "from SimEx.Parameters.DetectorGeometry import DetectorGeometry, DetectorPanel\n",
    "from SimEx.Parameters.SingFELPhotonDiffractorParameters import SingFELPhotonDiffractorParameters\n",
    "from SimEx.Calculators.SingFELPhotonDiffractor import SingFELPhotonDiffractor\n",
    "\n",
    "# Analysis\n",
    "from SimEx.Analysis.XFELPhotonAnalysis import XFELPhotonAnalysis\n",
    "from SimEx.Analysis.DiffractionAnalysis import DiffractionAnalysis\n",
    "\n",
    "import matplotlib.colors as colors"
   ]
  },
  {
   "cell_type": "markdown",
   "metadata": {},
   "source": [
    "## Data path setup"
   ]
  },
  {
   "cell_type": "code",
   "execution_count": null,
   "metadata": {},
   "outputs": [],
   "source": [
    "data_path = '../../../data/simulation/'"
   ]
  },
  {
   "cell_type": "markdown",
   "metadata": {},
   "source": [
    "## Beam"
   ]
  },
  {
   "cell_type": "code",
   "execution_count": null,
   "metadata": {},
   "outputs": [],
   "source": [
    "beam = PhotonBeamParameters(\n",
    "            photon_energy=18.86e3 * electronvolt,\n",
    "            beam_diameter_fwhm=1.0e-6 * meter,\n",
    "            pulse_energy=1.0e-3 * joule,\n",
    "        )"
   ]
  },
  {
   "cell_type": "markdown",
   "metadata": {},
   "source": [
    "## Detector Setting"
   ]
  },
  {
   "cell_type": "code",
   "execution_count": null,
   "metadata": {},
   "outputs": [],
   "source": [
    "p0 = DetectorPanel(\n",
    "            ranges={\n",
    "                'fast_scan_min': 0,\n",
    "                'fast_scan_max': 100,\n",
    "                'slow_scan_min': 0,\n",
    "                'slow_scan_max': 200\n",
    "            },\n",
    "            pixel_size=220e-6 * meter,\n",
    "            photon_response=1.0,\n",
    "            distance_from_interaction_plane=0.13 * meter,\n",
    "            corners={\n",
    "                'x': -50,\n",
    "                'y': 1\n",
    "            },\n",
    "            fast_scan_xyz = '1.0x',\n",
    "            slow_scan_xyz = '1.0y'\n",
    "        )\n",
    "p1 = DetectorPanel(\n",
    "            ranges={\n",
    "                'fast_scan_min': 0,\n",
    "                'fast_scan_max': 100,\n",
    "                'slow_scan_min': 0,\n",
    "                'slow_scan_max': 200\n",
    "            },\n",
    "            pixel_size=220e-6 * meter,\n",
    "            photon_response=1.0,\n",
    "            distance_from_interaction_plane=0.13 * meter,\n",
    "            corners={\n",
    "                'x': -50,\n",
    "                'y': -201\n",
    "            },\n",
    "            fast_scan_xyz = '1.0x',\n",
    "            slow_scan_xyz = '1.0y'\n",
    "        )\n",
    "detector_geometry = DetectorGeometry(panels=[p0,p1])"
   ]
  },
  {
   "cell_type": "code",
   "execution_count": null,
   "metadata": {},
   "outputs": [],
   "source": [
    "detector_geometry.serialize()"
   ]
  },
  {
   "cell_type": "markdown",
   "metadata": {},
   "source": [
    "## Clean up previous diffraction run"
   ]
  },
  {
   "cell_type": "code",
   "execution_count": null,
   "metadata": {},
   "outputs": [],
   "source": [
    "dirs_to_remove=['diffr']\n",
    "files_to_remove=['diffr.h5']\n",
    "\n",
    "for d in dirs_to_remove:\n",
    "    if os.path.isdir(d):\n",
    "        shutil.rmtree(d)\n",
    "for f in files_to_remove:\n",
    "    if os.path.isfile(f):\n",
    "        os.remove(f)"
   ]
  },
  {
   "cell_type": "markdown",
   "metadata": {},
   "source": [
    "## Diffractor Settings"
   ]
  },
  {
   "cell_type": "code",
   "execution_count": null,
   "metadata": {},
   "outputs": [],
   "source": [
    "diffraction_parameters = SingFELPhotonDiffractorParameters(\n",
    "                                               uniform_rotation=False,\n",
    "                                               slice_interval=1,\n",
    "                                               number_of_slices=1,\n",
    "                                               number_of_diffraction_patterns=2,\n",
    "                                               detector_geometry=detector_geometry,\n",
    "                                               beam_parameters = beam,\n",
    "                                               forced_mpi_command='mpirun -np 1',\n",
    "                                              )"
   ]
  },
  {
   "cell_type": "code",
   "execution_count": null,
   "metadata": {},
   "outputs": [],
   "source": [
    "diffractor = SingFELPhotonDiffractor(parameters=diffraction_parameters,\n",
    "                                     input_path='3WUL.pdb',\n",
    "                                     output_path=\"diffr\")"
   ]
  },
  {
   "cell_type": "code",
   "execution_count": null,
   "metadata": {},
   "outputs": [],
   "source": [
    "diffractor._run()\n",
    "diffractor.saveH5()"
   ]
  },
  {
   "cell_type": "code",
   "execution_count": null,
   "metadata": {},
   "outputs": [],
   "source": [
    "H5Glance('diffr/diffr_out_0000001.h5')"
   ]
  },
  {
   "cell_type": "code",
   "execution_count": null,
   "metadata": {},
   "outputs": [],
   "source": [
    "H5Glance('diffr.h5')"
   ]
  },
  {
   "cell_type": "code",
   "execution_count": null,
   "metadata": {},
   "outputs": [],
   "source": [
    "with h5py.File('diffr.h5','r') as f:\n",
    "    for i,iteration in enumerate(f['data']):\n",
    "        if i < 1:\n",
    "            diffr = f['data'][iteration]['diffr'][0]\n",
    "            plt.figure()\n",
    "            plt.imshow(diffr,norm=colors.LogNorm(vmin=diffr.min(), vmax=diffr.max()),origin='lower')\n",
    "            diffr = f['data'][iteration]['diffr'][1]\n",
    "            plt.figure()\n",
    "            plt.imshow(diffr,norm=colors.LogNorm(vmin=diffr.min(), vmax=diffr.max()),origin='lower')"
   ]
  }
 ],
 "metadata": {
  "kernelspec": {
   "display_name": "Python 3",
   "language": "python",
   "name": "python3"
  },
  "language_info": {
   "codemirror_mode": {
    "name": "ipython",
    "version": 3
   },
   "file_extension": ".py",
   "mimetype": "text/x-python",
   "name": "python",
   "nbconvert_exporter": "python",
   "pygments_lexer": "ipython3",
   "version": "3.6.7"
  }
 },
 "nbformat": 4,
 "nbformat_minor": 4
}
