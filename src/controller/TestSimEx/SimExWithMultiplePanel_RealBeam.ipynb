{
 "cells": [
  {
   "cell_type": "code",
   "execution_count": 14,
   "metadata": {},
   "outputs": [],
   "source": [
    "import os,shutil\n",
    "import h5py\n",
    "from h5glance import H5Glance\n",
    "import matplotlib.pyplot as plt\n",
    "\n",
    "# Helpers\n",
    "from SimEx.Utilities.Units import meter, electronvolt, joule, radian\n",
    "\n",
    "# PMI\n",
    "from SimEx.Calculators.XMDYNDemoPhotonMatterInteractor import XMDYNDemoPhotonMatterInteractor\n",
    "\n",
    "# Diffraction\n",
    "from SimEx.Parameters.DetectorGeometry import DetectorGeometry, DetectorPanel\n",
    "from SimEx.Parameters.SingFELPhotonDiffractorParameters import SingFELPhotonDiffractorParameters\n",
    "from SimEx.Calculators.SingFELPhotonDiffractor import SingFELPhotonDiffractor\n",
    "\n",
    "# Analysis\n",
    "from SimEx.Analysis.XFELPhotonAnalysis import XFELPhotonAnalysis\n",
    "from SimEx.Analysis.DiffractionAnalysis import DiffractionAnalysis"
   ]
  },
  {
   "cell_type": "markdown",
   "metadata": {},
   "source": [
    "## Data path setup"
   ]
  },
  {
   "cell_type": "code",
   "execution_count": 15,
   "metadata": {},
   "outputs": [],
   "source": [
    "data_path = '../../../data/simulation/'"
   ]
  },
  {
   "cell_type": "markdown",
   "metadata": {},
   "source": [
    "## Propogration output"
   ]
  },
  {
   "cell_type": "code",
   "execution_count": 16,
   "metadata": {},
   "outputs": [
    {
     "name": "stdout",
     "output_type": "stream",
     "text": [
      "\n",
      " Start initialization.\n",
      "\n",
      " Loading wavefront from ../../../data/simulation/prop/prop_out_9fs_5keV_from_CHY.h5.\n",
      " ... done.\n",
      "\n",
      " Getting intensities.\n",
      " ... done.\n",
      " Data dimensions =  (150, 150, 651)\n",
      "\n",
      " Masking NANs.\n",
      " ... done.\n"
     ]
    }
   ],
   "source": [
    "prop_path = os.path.join(data_path,'prop/prop_out_9fs_5keV_from_CHY.h5')\n",
    "prop_analysis=XFELPhotonAnalysis(input_path=prop_path)"
   ]
  },
  {
   "cell_type": "code",
   "execution_count": 4,
   "metadata": {},
   "outputs": [
    {
     "name": "stdout",
     "output_type": "stream",
     "text": [
      "\n",
      " Plotting total power.\n",
      "\n",
      " Switching to frequency domain.\n"
     ]
    },
    {
     "data": {
      "image/png": "[encoded data removed]",
      "text/plain": [
       "<Figure size 432x288 with 1 Axes>"
      ]
     },
     "metadata": {
      "needs_background": "light"
     },
     "output_type": "display_data"
    }
   ],
   "source": [
    "prop_analysis.plotTotalPower(spectrum=True)"
   ]
  },
  {
   "cell_type": "markdown",
   "metadata": {},
   "source": [
    "## Photon-mater-interaction"
   ]
  },
  {
   "cell_type": "code",
   "execution_count": 5,
   "metadata": {},
   "outputs": [
    {
     "name": "stdout",
     "output_type": "stream",
     "text": [
      "Previous module:  prop\n",
      "  NOT: data\n",
      "  NOT: history\n",
      "info\n",
      "misc\n",
      "params\n",
      "version\n",
      "['arrEhor', 'arrEver']\n",
      "[('arrEhor', <HDF5 dataset \"arrEhor\": shape (150, 150, 651, 2), type \"<f4\">), ('arrEver', <HDF5 dataset \"arrEver\": shape (150, 150, 651, 2), type \"<f4\">)]\n"
     ]
    }
   ],
   "source": [
    "pmi_parameters={\"number_of_trajectories\" : 1,\n",
    "                \"random_rotation\" : False}\n",
    "photon_matter_interactor=XMDYNDemoPhotonMatterInteractor(parameters=pmi_parameters,\n",
    "                                                         input_path=prop_path,\n",
    "                                                         output_path='pmi',\n",
    "                                                         sample_path='3WUL.pdb')\n",
    "photon_matter_interactor.backengine()\n",
    "photon_matter_interactor.saveH5()"
   ]
  },
  {
   "cell_type": "markdown",
   "metadata": {},
   "source": [
    "## Detector Setting"
   ]
  },
  {
   "cell_type": "code",
   "execution_count": 6,
   "metadata": {},
   "outputs": [],
   "source": [
    "p0 = DetectorPanel(\n",
    "            ranges={\n",
    "                'fast_scan_min': 0,\n",
    "                'fast_scan_max': 100,\n",
    "                'slow_scan_min': 0,\n",
    "                'slow_scan_max': 100\n",
    "            },\n",
    "            pixel_size=2200e-6 * meter,\n",
    "            photon_response=1.0,\n",
    "            distance_from_interaction_plane=0.13 * meter,\n",
    "            corners={\n",
    "                'x': -50,\n",
    "                'y': 5\n",
    "            },\n",
    "            fast_scan_xyz = '1.0x',\n",
    "            slow_scan_xyz = '1.0y'\n",
    "        )\n",
    "p1 = DetectorPanel(\n",
    "            ranges={\n",
    "                'fast_scan_min': 0,\n",
    "                'fast_scan_max': 100,\n",
    "                'slow_scan_min': 0,\n",
    "                'slow_scan_max': 100\n",
    "            },\n",
    "            pixel_size=2200e-6 * meter,\n",
    "            photon_response=1.0,\n",
    "            distance_from_interaction_plane=0.25 * meter,\n",
    "            corners={\n",
    "                'x': -50,\n",
    "                'y': -105\n",
    "            },\n",
    "            fast_scan_xyz = '1.0x',\n",
    "            slow_scan_xyz = '1.0y'\n",
    "        )\n",
    "detector_geometry = DetectorGeometry(panels=[p0,p1])"
   ]
  },
  {
   "cell_type": "code",
   "execution_count": 7,
   "metadata": {},
   "outputs": [
    {
     "name": "stdout",
     "output_type": "stream",
     "text": [
      ";panel 0\n",
      "panel0/min_fs         = 0\n",
      "panel0/max_fs         = 100\n",
      "panel0/min_ss         = 0\n",
      "panel0/max_ss         = 100\n",
      "panel0/corner_y       = 5\n",
      "panel0/fs             = 1.0x\n",
      "panel0/ss             = 1.0y\n",
      "panel0/clen           = 1.3000000e-01\n",
      "panel0/res            = 4.5454545e+02\n",
      "panel0/coffset        = 0.0000000e+00\n",
      "panel0/adu_per_photon = 1.0000000e+00\n",
      "panel0/max_adu        = 1.0000000e+04\n",
      "panel0/px             = 101\n",
      "panel0/py             = 101\n",
      "panel0/pix_width      = 2.2000000e-03\n",
      "panel0/d              = 1.3000000e-01\n",
      "panel0/corner_x       = -50\n",
      "\n",
      ";panel 1\n",
      "panel1/min_fs         = 0\n",
      "panel1/max_fs         = 100\n",
      "panel1/min_ss         = 0\n",
      "panel1/max_ss         = 100\n",
      "panel1/corner_y       = -105\n",
      "panel1/fs             = 1.0x\n",
      "panel1/ss             = 1.0y\n",
      "panel1/clen           = 2.5000000e-01\n",
      "panel1/res            = 4.5454545e+02\n",
      "panel1/coffset        = 0.0000000e+00\n",
      "panel1/adu_per_photon = 1.0000000e+00\n",
      "panel1/max_adu        = 1.0000000e+04\n",
      "panel1/px             = 101\n",
      "panel1/py             = 101\n",
      "panel1/pix_width      = 2.2000000e-03\n",
      "panel1/d              = 2.5000000e-01\n",
      "panel1/corner_x       = -50\n",
      "\n"
     ]
    }
   ],
   "source": [
    "detector_geometry.serialize()"
   ]
  },
  {
   "cell_type": "markdown",
   "metadata": {},
   "source": [
    "## Clean up previous diffraction run"
   ]
  },
  {
   "cell_type": "code",
   "execution_count": 8,
   "metadata": {},
   "outputs": [],
   "source": [
    "dirs_to_remove=['diffr']\n",
    "files_to_remove=['diffr.h5']\n",
    "\n",
    "for d in dirs_to_remove:\n",
    "    if os.path.isdir(d):\n",
    "        shutil.rmtree(d)\n",
    "for f in files_to_remove:\n",
    "    if os.path.isfile(f):\n",
    "        os.remove(f)"
   ]
  },
  {
   "cell_type": "markdown",
   "metadata": {},
   "source": [
    "## Diffractor Settings"
   ]
  },
  {
   "cell_type": "code",
   "execution_count": 17,
   "metadata": {},
   "outputs": [
    {
     "name": "stdout",
     "output_type": "stream",
     "text": [
      "WARNING: Beam parameters not set, will use crystFEL/pattern_sim defaults.\n"
     ]
    }
   ],
   "source": [
    "diffraction_parameters = SingFELPhotonDiffractorParameters(\n",
    "                                               uniform_rotation=False,\n",
    "                                               slice_interval=1,\n",
    "                                               number_of_slices=1,\n",
    "                                               number_of_diffraction_patterns=1,\n",
    "                                               detector_geometry=detector_geometry,\n",
    "                                               forced_mpi_command='mpirun -np 1',\n",
    "                                              )"
   ]
  },
  {
   "cell_type": "code",
   "execution_count": 18,
   "metadata": {},
   "outputs": [],
   "source": [
    "diffractor = SingFELPhotonDiffractor(parameters=diffraction_parameters,\n",
    "                                     input_path='pmi',\n",
    "                                     output_path=\"diffr\")"
   ]
  },
  {
   "cell_type": "code",
   "execution_count": 21,
   "metadata": {},
   "outputs": [
    {
     "ename": "IsADirectoryError",
     "evalue": "[Errno 21] Is a directory: '/gpfs/exfel/data/user/juncheng/crystalProject/src/controller/TestSimEx/pmi'",
     "output_type": "error",
     "traceback": [
      "\u001b[0;31m---------------------------------------------------------------------------\u001b[0m",
      "\u001b[0;31mIsADirectoryError\u001b[0m                         Traceback (most recent call last)",
      "\u001b[0;32m<ipython-input-21-98fe0656f1f1>\u001b[0m in \u001b[0;36m<module>\u001b[0;34m\u001b[0m\n\u001b[0;32m----> 1\u001b[0;31m \u001b[0mdiffractor\u001b[0m\u001b[0;34m.\u001b[0m\u001b[0m_run\u001b[0m\u001b[0;34m(\u001b[0m\u001b[0;34m)\u001b[0m\u001b[0;34m\u001b[0m\u001b[0;34m\u001b[0m\u001b[0m\n\u001b[0m\u001b[1;32m      2\u001b[0m \u001b[0mdiffractor\u001b[0m\u001b[0;34m.\u001b[0m\u001b[0msaveH5\u001b[0m\u001b[0;34m(\u001b[0m\u001b[0;34m)\u001b[0m\u001b[0;34m\u001b[0m\u001b[0;34m\u001b[0m\u001b[0m\n",
      "\u001b[0;32m/gpfs/exfel/data/user/juncheng/panoscProject/src/simex_platform/Sources/python/SimEx/Calculators/SingFELPhotonDiffractor.py\u001b[0m in \u001b[0;36m_run\u001b[0;34m(self)\u001b[0m\n\u001b[1;32m    269\u001b[0m         \u001b[0;31m# Perform common work on all cores.\u001b[0m\u001b[0;34m\u001b[0m\u001b[0;34m\u001b[0m\u001b[0;34m\u001b[0m\u001b[0m\n\u001b[1;32m    270\u001b[0m         \u001b[0minitial_particle\u001b[0m \u001b[0;34m=\u001b[0m \u001b[0mParticle\u001b[0m\u001b[0;34m(\u001b[0m\u001b[0;34m)\u001b[0m\u001b[0;34m\u001b[0m\u001b[0;34m\u001b[0m\u001b[0m\n\u001b[0;32m--> 271\u001b[0;31m         \u001b[0minitial_particle\u001b[0m\u001b[0;34m.\u001b[0m\u001b[0mreadPDB\u001b[0m\u001b[0;34m(\u001b[0m\u001b[0mself\u001b[0m\u001b[0;34m.\u001b[0m\u001b[0minput_path\u001b[0m\u001b[0;34m,\u001b[0m \u001b[0mff\u001b[0m\u001b[0;34m=\u001b[0m\u001b[0;34m'WK'\u001b[0m\u001b[0;34m)\u001b[0m\u001b[0;34m\u001b[0m\u001b[0;34m\u001b[0m\u001b[0m\n\u001b[0m\u001b[1;32m    272\u001b[0m \u001b[0;34m\u001b[0m\u001b[0m\n\u001b[1;32m    273\u001b[0m         \u001b[0;31m# Generate rotations.\u001b[0m\u001b[0;34m\u001b[0m\u001b[0;34m\u001b[0m\u001b[0;34m\u001b[0m\u001b[0m\n",
      "\u001b[0;32m/gpfs/exfel/data/user/juncheng/panoscProject/src/simex_platform/lib/python3.6/pysingfel/particle.py\u001b[0m in \u001b[0;36mreadPDB\u001b[0;34m(self, fname, ff)\u001b[0m\n\u001b[1;32m     81\u001b[0m         \u001b[0mSet\u001b[0m \u001b[0mthe\u001b[0m \u001b[0mffTable\u001b[0m \u001b[0;32mand\u001b[0m \u001b[0mqSample\u001b[0m \u001b[0mmanually\u001b[0m\u001b[0;34m.\u001b[0m\u001b[0;34m\u001b[0m\u001b[0;34m\u001b[0m\u001b[0m\n\u001b[1;32m     82\u001b[0m         \"\"\"\n\u001b[0;32m---> 83\u001b[0;31m         \u001b[0matoms\u001b[0m \u001b[0;34m=\u001b[0m \u001b[0msymmpdb\u001b[0m\u001b[0;34m(\u001b[0m\u001b[0mfname\u001b[0m\u001b[0;34m)\u001b[0m\u001b[0;34m\u001b[0m\u001b[0;34m\u001b[0m\u001b[0m\n\u001b[0m\u001b[1;32m     84\u001b[0m         \u001b[0mself\u001b[0m\u001b[0;34m.\u001b[0m\u001b[0matomPos\u001b[0m \u001b[0;34m=\u001b[0m \u001b[0matoms\u001b[0m\u001b[0;34m[\u001b[0m\u001b[0;34m:\u001b[0m\u001b[0;34m,\u001b[0m \u001b[0;36m0\u001b[0m\u001b[0;34m:\u001b[0m\u001b[0;36m3\u001b[0m\u001b[0;34m]\u001b[0m \u001b[0;34m/\u001b[0m \u001b[0;36m10\u001b[0m\u001b[0;34m**\u001b[0m\u001b[0;36m10\u001b[0m  \u001b[0;31m# convert unit from Angstroms to m\u001b[0m\u001b[0;34m\u001b[0m\u001b[0;34m\u001b[0m\u001b[0m\n\u001b[1;32m     85\u001b[0m         \u001b[0mtmp\u001b[0m \u001b[0;34m=\u001b[0m \u001b[0;34m(\u001b[0m\u001b[0;36m100\u001b[0m \u001b[0;34m*\u001b[0m \u001b[0matoms\u001b[0m\u001b[0;34m[\u001b[0m\u001b[0;34m:\u001b[0m\u001b[0;34m,\u001b[0m \u001b[0;36m3\u001b[0m\u001b[0;34m]\u001b[0m \u001b[0;34m+\u001b[0m \u001b[0matoms\u001b[0m\u001b[0;34m[\u001b[0m\u001b[0;34m:\u001b[0m\u001b[0;34m,\u001b[0m \u001b[0;36m4\u001b[0m\u001b[0;34m]\u001b[0m\u001b[0;34m)\u001b[0m\u001b[0;34m.\u001b[0m\u001b[0mastype\u001b[0m\u001b[0;34m(\u001b[0m\u001b[0mint\u001b[0m\u001b[0;34m)\u001b[0m  \u001b[0;31m# hack to get split idx from the sorted atom array\u001b[0m\u001b[0;34m\u001b[0m\u001b[0;34m\u001b[0m\u001b[0m\n",
      "\u001b[0;32m/gpfs/exfel/data/user/juncheng/panoscProject/src/simex_platform/lib/python3.6/pysingfel/particle.py\u001b[0m in \u001b[0;36msymmpdb\u001b[0;34m(fname)\u001b[0m\n\u001b[1;32m    178\u001b[0m         \u001b[0mAtomTypes\u001b[0m\u001b[0;34m[\u001b[0m\u001b[0msymbol\u001b[0m\u001b[0;34m]\u001b[0m \u001b[0;34m=\u001b[0m \u001b[0mnumber\u001b[0m\u001b[0;34m\u001b[0m\u001b[0;34m\u001b[0m\u001b[0m\n\u001b[1;32m    179\u001b[0m \u001b[0;34m\u001b[0m\u001b[0m\n\u001b[0;32m--> 180\u001b[0;31m     \u001b[0mfin\u001b[0m \u001b[0;34m=\u001b[0m \u001b[0mopen\u001b[0m\u001b[0;34m(\u001b[0m\u001b[0mfname\u001b[0m\u001b[0;34m,\u001b[0m \u001b[0;34m'r'\u001b[0m\u001b[0;34m)\u001b[0m\u001b[0;34m\u001b[0m\u001b[0;34m\u001b[0m\u001b[0m\n\u001b[0m\u001b[1;32m    181\u001b[0m \u001b[0;34m\u001b[0m\u001b[0m\n\u001b[1;32m    182\u001b[0m     \u001b[0matoms_dict\u001b[0m \u001b[0;34m=\u001b[0m \u001b[0;34m{\u001b[0m\u001b[0;34m}\u001b[0m  \u001b[0;31m# dict to save atom positions and chain id\u001b[0m\u001b[0;34m\u001b[0m\u001b[0;34m\u001b[0m\u001b[0m\n",
      "\u001b[0;31mIsADirectoryError\u001b[0m: [Errno 21] Is a directory: '/gpfs/exfel/data/user/juncheng/crystalProject/src/controller/TestSimEx/pmi'"
     ]
    }
   ],
   "source": [
    "diffractor._run()\n",
    "diffractor.saveH5()"
   ]
  },
  {
   "cell_type": "code",
   "execution_count": 12,
   "metadata": {},
   "outputs": [
    {
     "data": {
      "text/html": [
       "<div><style>/* Based on https://css-tricks.com/snippets/css/nested-expandable-folders/\n",
       "   Reused with permission from https://css-tricks.com/license/\n",
       "*/\n",
       "\n",
       ".h5glance-css-treeview ul,\n",
       ".h5glance-css-treeview li\n",
       "{\n",
       "\tpadding: 0;\n",
       "\tmargin: 0;\n",
       "    margin-left: 12px;\n",
       "\tlist-style: none;\n",
       "}\n",
       "\n",
       "/* Override padding from Jupyter CSS */\n",
       ".rendered_html .h5glance-css-treeview ul {\n",
       "    padding: 0;\n",
       "}\n",
       "\n",
       "/* Make the checkbox itself invisible */\n",
       ".h5glance-css-treeview input\n",
       "{\n",
       "\tposition: absolute;\n",
       "\topacity: 0;\n",
       "}\n",
       "\n",
       ".h5glance-css-treeview\n",
       "{\n",
       "    font-family: sans-serif;\n",
       "\t-moz-user-select: none;\n",
       "\t-webkit-user-select: none;\n",
       "\tuser-select: none;\n",
       "}\n",
       "\n",
       ".h5glance-css-treeview code {\n",
       "    font-size: 12pt;\n",
       "    font-family: \"courier\", monospace;\n",
       "}\n",
       "\n",
       ".h5glance-css-treeview a.h5glance-dataset-copylink\n",
       "{\n",
       "    text-decoration: none;\n",
       "}\n",
       "\n",
       "/* These next two bits drive the expanding/collapsing behaviour */\n",
       ".h5glance-css-treeview input + label + ul\n",
       "{\n",
       "\tdisplay: none;\n",
       "}\n",
       "\n",
       ".h5glance-css-treeview input:checked:not(:disabled) + label + ul\n",
       "{\n",
       "\tdisplay: block;\n",
       "}\n",
       "\n",
       ".h5glance-css-treeview label,\n",
       ".h5glance-css-treeview label::before\n",
       "{\n",
       "\tdisplay: inline-block;\n",
       "\theight: 16px;\n",
       "\tline-height: 16px;,\n",
       "\tvertical-align: middle;\n",
       "}\n",
       "\n",
       ".h5glance-css-treeview label\n",
       "{\n",
       "    margin-left: -1.5em;\n",
       "}\n",
       "\n",
       ".h5glance-css-treeview label::before\n",
       "{\n",
       "\tcontent: \"\\229e\"; /* squared plus */\n",
       "\twidth: 1.5em;\n",
       "\tvertical-align: middle;\n",
       "}\n",
       "\n",
       ".h5glance-css-treeview input:checked + label::before\n",
       "{\n",
       "    content: \"\\229f\";  /* squared minus */\n",
       "}\n",
       "\n",
       "/* webkit adjacent element selector bugfix */\n",
       "@media screen and (-webkit-min-device-pixel-ratio:0)\n",
       "{\n",
       "\t.h5glance-css-treeview\n",
       "\t{\n",
       "\t\t-webkit-animation: webkit-adjacent-element-selector-bugfix infinite 1s;\n",
       "\t}\n",
       "\n",
       "\t@-webkit-keyframes webkit-adjacent-element-selector-bugfix\n",
       "\t{\n",
       "\t\tfrom\n",
       "\t\t{\n",
       "\t\t\tpadding: 0;\n",
       "\t\t}\n",
       "\t\tto\n",
       "\t\t{\n",
       "\t\t\tpadding: 0;\n",
       "\t\t}\n",
       "\t}\n",
       "}\n",
       "\n",
       ".h5glance-css-treeview li.h5glance-dataset {\n",
       "    margin-bottom: 3px;\n",
       "}\n",
       "\n",
       ".h5glance-dataset-name {\n",
       "    font-weight: bold;\n",
       "}\n",
       "</style><div id=\"h5glance-container-0\" class=\"h5glance-css-treeview\"><ul><li><input checked=\"checked\" id=\"h5glance-expand-switch-0\" type=\"checkbox\"/><label for=\"h5glance-expand-switch-0\">diffr/diffr_out_0000001.h5</label><ul><li><input id=\"h5glance-expand-switch-1\" type=\"checkbox\"/><label for=\"h5glance-expand-switch-1\">data</label><ul><li><input id=\"h5glance-expand-switch-2\" type=\"checkbox\"/><label for=\"h5glance-expand-switch-2\">0000001</label><ul><li class=\"h5glance-dataset\"><span class=\"h5glance-dataset-name\">angle</span> <a data-hdf5-path=\"/data/0000001/angle\" href=\"#\" class=\"h5glance-dataset-copylink\">[📋]</a>: 4 entries, dtype: <abbr title=\"64-bit floating point\"><code>&lt;f8</code></abbr></li><li class=\"h5glance-dataset\"><span class=\"h5glance-dataset-name\">data</span> <a data-hdf5-path=\"/data/0000001/data\" href=\"#\" class=\"h5glance-dataset-copylink\">[📋]</a>: 101 × 101 entries, dtype: <abbr title=\"64-bit signed integer\"><code>&lt;i8</code></abbr></li><li class=\"h5glance-dataset\"><span class=\"h5glance-dataset-name\">diffr</span> <a data-hdf5-path=\"/data/0000001/diffr\" href=\"#\" class=\"h5glance-dataset-copylink\">[📋]</a>: 101 × 101 entries, dtype: <abbr title=\"64-bit floating point\"><code>&lt;f8</code></abbr></li></ul></li></ul></li><li><input id=\"h5glance-expand-switch-3\" type=\"checkbox\"/><label for=\"h5glance-expand-switch-3\">info</label><ul><li class=\"h5glance-dataset\"><span class=\"h5glance-dataset-name\">contact</span> <a data-hdf5-path=\"/info/contact\" href=\"#\" class=\"h5glance-dataset-copylink\">[📋]</a>:  entries, dtype: <code>|S46</code></li><li class=\"h5glance-dataset\"><span class=\"h5glance-dataset-name\">data_description</span> <a data-hdf5-path=\"/info/data_description\" href=\"#\" class=\"h5glance-dataset-copylink\">[📋]</a>:  entries, dtype: <code>|S67</code></li><li class=\"h5glance-dataset\"><span class=\"h5glance-dataset-name\">method_description</span> <a data-hdf5-path=\"/info/method_description\" href=\"#\" class=\"h5glance-dataset-copylink\">[📋]</a>:  entries, dtype: <code>|S299</code></li><li class=\"h5glance-dataset\"><span class=\"h5glance-dataset-name\">package_version</span> <a data-hdf5-path=\"/info/package_version\" href=\"#\" class=\"h5glance-dataset-copylink\">[📋]</a>:  entries, dtype: <code>|S14</code></li></ul></li><li><input id=\"h5glance-expand-switch-4\" type=\"checkbox\"/><label for=\"h5glance-expand-switch-4\">misc</label><ul></ul></li><li><input id=\"h5glance-expand-switch-5\" type=\"checkbox\"/><label for=\"h5glance-expand-switch-5\">params</label><ul><li><input id=\"h5glance-expand-switch-6\" type=\"checkbox\"/><label for=\"h5glance-expand-switch-6\">beam</label><ul><li class=\"h5glance-dataset\"><span class=\"h5glance-dataset-name\">focusArea</span> <a data-hdf5-path=\"/params/beam/focusArea\" href=\"#\" class=\"h5glance-dataset-copylink\">[📋]</a>:  entries, dtype: <abbr title=\"64-bit floating point\"><code>&lt;f8</code></abbr></li><li class=\"h5glance-dataset\"><span class=\"h5glance-dataset-name\">photonEnergy</span> <a data-hdf5-path=\"/params/beam/photonEnergy\" href=\"#\" class=\"h5glance-dataset-copylink\">[📋]</a>:  entries, dtype: <abbr title=\"64-bit floating point\"><code>&lt;f8</code></abbr></li></ul></li><li><input id=\"h5glance-expand-switch-7\" type=\"checkbox\"/><label for=\"h5glance-expand-switch-7\">geom</label><ul><li class=\"h5glance-dataset\"><span class=\"h5glance-dataset-name\">detectorDist</span> <a data-hdf5-path=\"/params/geom/detectorDist\" href=\"#\" class=\"h5glance-dataset-copylink\">[📋]</a>:  entries, dtype: <abbr title=\"64-bit floating point\"><code>&lt;f8</code></abbr></li><li class=\"h5glance-dataset\"><span class=\"h5glance-dataset-name\">mask</span> <a data-hdf5-path=\"/params/geom/mask\" href=\"#\" class=\"h5glance-dataset-copylink\">[📋]</a>: 101 × 101 entries, dtype: <abbr title=\"64-bit floating point\"><code>&lt;f8</code></abbr></li><li class=\"h5glance-dataset\"><span class=\"h5glance-dataset-name\">pixelHeight</span> <a data-hdf5-path=\"/params/geom/pixelHeight\" href=\"#\" class=\"h5glance-dataset-copylink\">[📋]</a>:  entries, dtype: <abbr title=\"64-bit floating point\"><code>&lt;f8</code></abbr></li><li class=\"h5glance-dataset\"><span class=\"h5glance-dataset-name\">pixelWidth</span> <a data-hdf5-path=\"/params/geom/pixelWidth\" href=\"#\" class=\"h5glance-dataset-copylink\">[📋]</a>:  entries, dtype: <abbr title=\"64-bit floating point\"><code>&lt;f8</code></abbr></li></ul></li></ul></li><li class=\"h5glance-dataset\"><span class=\"h5glance-dataset-name\">version</span> <a data-hdf5-path=\"/version\" href=\"#\" class=\"h5glance-dataset-copylink\">[📋]</a>:  entries, dtype: <code>|S3</code></li></ul></li></ul></div><script>// Based on code by Stackoverflow user Dean Taylor\n",
       "// https://stackoverflow.com/questions/400212/how-do-i-copy-to-the-clipboard-in-javascript/30810322\n",
       "// Used under Stackoverflow's CC-BY-SA 3.0 license\n",
       "\n",
       "(function() {\n",
       "    function copyTextToClipboard(text) {\n",
       "        let textArea = document.createElement(\"textarea\");\n",
       "\n",
       "        //\n",
       "        // *** This styling is an extra step which is likely not required. ***\n",
       "        //\n",
       "        // Why is it here? To ensure:\n",
       "        // 1. the element is able to have focus and selection.\n",
       "        // 2. if element was to flash render it has minimal visual impact.\n",
       "        // 3. less flakyness with selection and copying which **might** occur if\n",
       "        //    the textarea element is not visible.\n",
       "        //\n",
       "        // The likelihood is the element won't even render, not even a flash,\n",
       "        // so some of these are just precautions. However in IE the element\n",
       "        // is visible whilst the popup box asking the user for permission for\n",
       "        // the web page to copy to the clipboard.\n",
       "        //\n",
       "\n",
       "        // Place in top-left corner of screen regardless of scroll position.\n",
       "        textArea.style.position = 'fixed';\n",
       "        textArea.style.top = 0;\n",
       "        textArea.style.left = 0;\n",
       "\n",
       "        // Ensure it has a small width and height. Setting to 1px / 1em\n",
       "        // doesn't work as this gives a negative w/h on some browsers.\n",
       "        textArea.style.width = '2em';\n",
       "        textArea.style.height = '2em';\n",
       "\n",
       "        // We don't need padding, reducing the size if it does flash render.\n",
       "        textArea.style.padding = 0;\n",
       "\n",
       "        // Clean up any borders.\n",
       "        textArea.style.border = 'none';\n",
       "        textArea.style.outline = 'none';\n",
       "        textArea.style.boxShadow = 'none';\n",
       "\n",
       "        // Avoid flash of white box if rendered for any reason.\n",
       "        textArea.style.background = 'transparent';\n",
       "\n",
       "\n",
       "        textArea.value = text;\n",
       "\n",
       "        document.body.appendChild(textArea);\n",
       "        textArea.focus();\n",
       "        textArea.select();\n",
       "\n",
       "        try {\n",
       "            if (!document.execCommand('copy')) {\n",
       "                console.log(\"Unable to copy text with document.execCommand()\");\n",
       "            }\n",
       "        } finally {\n",
       "            document.body.removeChild(textArea);\n",
       "        }\n",
       "    }\n",
       "\n",
       "    function copy_event_handler(event) {\n",
       "        copyTextToClipboard(event.target.dataset.hdf5Path);\n",
       "        event.preventDefault();\n",
       "    }\n",
       "\n",
       "    function enable_copylinks(parent) {\n",
       "        let links = parent.querySelectorAll(\".h5glance-dataset-copylink\");\n",
       "        links.forEach(function (link) {\n",
       "            link.addEventListener(\"click\", copy_event_handler);\n",
       "        });\n",
       "    }\n",
       "\n",
       "    // The code to actually trigger this is substituted below.\n",
       "    \n",
       "enable_copylinks(document.getElementById(\"h5glance-container-0\"));\n",
       "\n",
       "})();\n",
       "</script></div>"
      ],
      "text/plain": [
       "<h5glance.generate.H5Glance at 0x2acf2f7566a0>"
      ]
     },
     "execution_count": 12,
     "metadata": {},
     "output_type": "execute_result"
    }
   ],
   "source": [
    "H5Glance('diffr/diffr_out_0000001.h5')"
   ]
  },
  {
   "cell_type": "code",
   "execution_count": 13,
   "metadata": {},
   "outputs": [
    {
     "ename": "KeyError",
     "evalue": "\"Unable to open object (object 'data' doesn't exist)\"",
     "output_type": "error",
     "traceback": [
      "\u001b[0;31m---------------------------------------------------------------------------\u001b[0m",
      "\u001b[0;31mKeyError\u001b[0m                                  Traceback (most recent call last)",
      "\u001b[0;32m<ipython-input-13-186a0c43f050>\u001b[0m in \u001b[0;36m<module>\u001b[0;34m\u001b[0m\n\u001b[1;32m      3\u001b[0m         \u001b[0;32mif\u001b[0m \u001b[0mi\u001b[0m \u001b[0;34m>\u001b[0m \u001b[0;36m1\u001b[0m\u001b[0;34m:\u001b[0m\u001b[0;34m\u001b[0m\u001b[0;34m\u001b[0m\u001b[0m\n\u001b[1;32m      4\u001b[0m             \u001b[0;32mbreak\u001b[0m\u001b[0;34m\u001b[0m\u001b[0;34m\u001b[0m\u001b[0m\n\u001b[0;32m----> 5\u001b[0;31m         \u001b[0mdata\u001b[0m \u001b[0;34m=\u001b[0m \u001b[0mf\u001b[0m\u001b[0;34m[\u001b[0m\u001b[0;34m'data'\u001b[0m\u001b[0;34m]\u001b[0m\u001b[0;34m[\u001b[0m\u001b[0miteration\u001b[0m\u001b[0;34m]\u001b[0m\u001b[0;34m[\u001b[0m\u001b[0;34m'data'\u001b[0m\u001b[0;34m]\u001b[0m\u001b[0;34m[\u001b[0m\u001b[0;34m...\u001b[0m\u001b[0;34m]\u001b[0m\u001b[0;34m\u001b[0m\u001b[0;34m\u001b[0m\u001b[0m\n\u001b[0m\u001b[1;32m      6\u001b[0m         \u001b[0mdiffr\u001b[0m \u001b[0;34m=\u001b[0m \u001b[0mf\u001b[0m\u001b[0;34m[\u001b[0m\u001b[0;34m'data'\u001b[0m\u001b[0;34m]\u001b[0m\u001b[0;34m[\u001b[0m\u001b[0miteration\u001b[0m\u001b[0;34m]\u001b[0m\u001b[0;34m[\u001b[0m\u001b[0;34m'diffr'\u001b[0m\u001b[0;34m]\u001b[0m\u001b[0;34m[\u001b[0m\u001b[0;34m...\u001b[0m\u001b[0;34m]\u001b[0m\u001b[0;34m\u001b[0m\u001b[0;34m\u001b[0m\u001b[0m\n\u001b[1;32m      7\u001b[0m         \u001b[0mplt\u001b[0m\u001b[0;34m.\u001b[0m\u001b[0mimshow\u001b[0m\u001b[0;34m(\u001b[0m\u001b[0mdiffr\u001b[0m\u001b[0;34m)\u001b[0m\u001b[0;34m\u001b[0m\u001b[0;34m\u001b[0m\u001b[0m\n",
      "\u001b[0;32mh5py/_objects.pyx\u001b[0m in \u001b[0;36mh5py._objects.with_phil.wrapper\u001b[0;34m()\u001b[0m\n",
      "\u001b[0;32mh5py/_objects.pyx\u001b[0m in \u001b[0;36mh5py._objects.with_phil.wrapper\u001b[0;34m()\u001b[0m\n",
      "\u001b[0;32m~/.conda/envs/simex/lib/python3.6/site-packages/h5py/_hl/group.py\u001b[0m in \u001b[0;36m__getitem__\u001b[0;34m(self, name)\u001b[0m\n\u001b[1;32m    262\u001b[0m                 \u001b[0;32mraise\u001b[0m \u001b[0mValueError\u001b[0m\u001b[0;34m(\u001b[0m\u001b[0;34m\"Invalid HDF5 object reference\"\u001b[0m\u001b[0;34m)\u001b[0m\u001b[0;34m\u001b[0m\u001b[0;34m\u001b[0m\u001b[0m\n\u001b[1;32m    263\u001b[0m         \u001b[0;32melse\u001b[0m\u001b[0;34m:\u001b[0m\u001b[0;34m\u001b[0m\u001b[0;34m\u001b[0m\u001b[0m\n\u001b[0;32m--> 264\u001b[0;31m             \u001b[0moid\u001b[0m \u001b[0;34m=\u001b[0m \u001b[0mh5o\u001b[0m\u001b[0;34m.\u001b[0m\u001b[0mopen\u001b[0m\u001b[0;34m(\u001b[0m\u001b[0mself\u001b[0m\u001b[0;34m.\u001b[0m\u001b[0mid\u001b[0m\u001b[0;34m,\u001b[0m \u001b[0mself\u001b[0m\u001b[0;34m.\u001b[0m\u001b[0m_e\u001b[0m\u001b[0;34m(\u001b[0m\u001b[0mname\u001b[0m\u001b[0;34m)\u001b[0m\u001b[0;34m,\u001b[0m \u001b[0mlapl\u001b[0m\u001b[0;34m=\u001b[0m\u001b[0mself\u001b[0m\u001b[0;34m.\u001b[0m\u001b[0m_lapl\u001b[0m\u001b[0;34m)\u001b[0m\u001b[0;34m\u001b[0m\u001b[0;34m\u001b[0m\u001b[0m\n\u001b[0m\u001b[1;32m    265\u001b[0m \u001b[0;34m\u001b[0m\u001b[0m\n\u001b[1;32m    266\u001b[0m         \u001b[0motype\u001b[0m \u001b[0;34m=\u001b[0m \u001b[0mh5i\u001b[0m\u001b[0;34m.\u001b[0m\u001b[0mget_type\u001b[0m\u001b[0;34m(\u001b[0m\u001b[0moid\u001b[0m\u001b[0;34m)\u001b[0m\u001b[0;34m\u001b[0m\u001b[0;34m\u001b[0m\u001b[0m\n",
      "\u001b[0;32mh5py/_objects.pyx\u001b[0m in \u001b[0;36mh5py._objects.with_phil.wrapper\u001b[0;34m()\u001b[0m\n",
      "\u001b[0;32mh5py/_objects.pyx\u001b[0m in \u001b[0;36mh5py._objects.with_phil.wrapper\u001b[0;34m()\u001b[0m\n",
      "\u001b[0;32mh5py/h5o.pyx\u001b[0m in \u001b[0;36mh5py.h5o.open\u001b[0;34m()\u001b[0m\n",
      "\u001b[0;31mKeyError\u001b[0m: \"Unable to open object (object 'data' doesn't exist)\""
     ]
    }
   ],
   "source": [
    "with h5py.File('diffr.h5','r') as f:\n",
    "    for i,iteration in enumerate(f['data']):\n",
    "        if i > 1:\n",
    "            break\n",
    "        data = f['data'][iteration]['data'][...]\n",
    "        diffr = f['data'][iteration]['diffr'][...]\n",
    "        plt.imshow(diffr)"
   ]
  },
  {
   "cell_type": "markdown",
   "metadata": {},
   "source": [
    "## Conclusion\n",
    "Got data with 0 values"
   ]
  }
 ],
 "metadata": {
  "kernelspec": {
   "display_name": "Python 3",
   "language": "python",
   "name": "python3"
  },
  "language_info": {
   "codemirror_mode": {
    "name": "ipython",
    "version": 3
   },
   "file_extension": ".py",
   "mimetype": "text/x-python",
   "name": "python",
   "nbconvert_exporter": "python",
   "pygments_lexer": "ipython3",
   "version": "3.6.7"
  }
 },
 "nbformat": 4,
 "nbformat_minor": 4
}
