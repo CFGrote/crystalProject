{
 "cells": [
  {
   "cell_type": "code",
   "execution_count": 3,
   "metadata": {},
   "outputs": [],
   "source": [
    "import os,shutil\n",
    "\n",
    "from SimEx.Parameters.DetectorGeometry import DetectorGeometry, DetectorPanel\n",
    "from SimEx.Utilities.Units import meter, electronvolt, joule, radian"
   ]
  },
  {
   "cell_type": "code",
   "execution_count": 4,
   "metadata": {},
   "outputs": [],
   "source": [
    "detector_panel = DetectorPanel(\n",
    "            ranges={\n",
    "                'fast_scan_min': 0,\n",
    "                'fast_scan_max': 200,\n",
    "                'slow_scan_min': 0,\n",
    "                'slow_scan_max': 200\n",
    "            },\n",
    "            pixel_size=2200e-6 * meter,\n",
    "            photon_response=1.0,\n",
    "            distance_from_interaction_plane=0.25 * meter,\n",
    "            corners={\n",
    "                'x': -100,\n",
    "                'y': -100\n",
    "            },\n",
    "        )\n",
    "detector_geometry = DetectorGeometry(panels=[detector_panel])"
   ]
  },
  {
   "cell_type": "code",
   "execution_count": null,
   "metadata": {},
   "outputs": [],
   "source": []
  }
 ],
 "metadata": {
  "kernelspec": {
   "display_name": "Python 3",
   "language": "python",
   "name": "python3"
  },
  "language_info": {
   "codemirror_mode": {
    "name": "ipython",
    "version": 3
   },
   "file_extension": ".py",
   "mimetype": "text/x-python",
   "name": "python",
   "nbconvert_exporter": "python",
   "pygments_lexer": "ipython3",
   "version": "3.6.10"
  }
 },
 "nbformat": 4,
 "nbformat_minor": 4
}
