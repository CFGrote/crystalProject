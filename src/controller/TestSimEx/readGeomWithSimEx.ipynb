{
 "cells": [
  {
   "cell_type": "code",
   "execution_count": 3,
   "metadata": {},
   "outputs": [],
   "source": [
    "import os,shutil\n",
    "\n",
    "from SimEx.Parameters.DetectorGeometry import DetectorGeometry, DetectorPanel\n",
    "from SimEx.Utilities.Units import meter, electronvolt, joule, radian"
   ]
  },
  {
   "cell_type": "code",
   "execution_count": 5,
   "metadata": {},
   "outputs": [],
   "source": [
    "p0 = DetectorPanel(\n",
    "            ranges={\n",
    "                'fast_scan_min': 0,\n",
    "                'fast_scan_max': 100,\n",
    "                'slow_scan_min': 0,\n",
    "                'slow_scan_max': 100\n",
    "            },\n",
    "            pixel_size=2200e-6 * meter,\n",
    "            photon_response=1.0,\n",
    "            distance_from_interaction_plane=0.13 * meter,\n",
    "            corners={\n",
    "                'x': -50,\n",
    "                'y': 5\n",
    "            },\n",
    "            fast_scan_xyz = '1.0x',\n",
    "            slow_scan_xyz = '1.0y'\n",
    "        )\n",
    "p1 = DetectorPanel(\n",
    "            ranges={\n",
    "                'fast_scan_min': 0,\n",
    "                'fast_scan_max': 100,\n",
    "                'slow_scan_min': 0,\n",
    "                'slow_scan_max': 100\n",
    "            },\n",
    "            pixel_size=2200e-6 * meter,\n",
    "            photon_response=1.0,\n",
    "            distance_from_interaction_plane=0.25 * meter,\n",
    "            corners={\n",
    "                'x': -50,\n",
    "                'y': -105\n",
    "            },\n",
    "            fast_scan_xyz = '1.0x',\n",
    "            slow_scan_xyz = '1.0y'\n",
    "        )\n",
    "detector_geometry = DetectorGeometry(panels=[p0,p1])"
   ]
  },
  {
   "cell_type": "code",
   "execution_count": 9,
   "metadata": {},
   "outputs": [
    {
     "ename": "AttributeError",
     "evalue": "'DetectorPanel' object has no attribute 'serialize'",
     "output_type": "error",
     "traceback": [
      "\u001b[0;31m---------------------------------------------------------------------------\u001b[0m",
      "\u001b[0;31mAttributeError\u001b[0m                            Traceback (most recent call last)",
      "\u001b[0;32m<ipython-input-9-0d33f8d6a00f>\u001b[0m in \u001b[0;36m<module>\u001b[0;34m\u001b[0m\n\u001b[0;32m----> 1\u001b[0;31m \u001b[0mdetector_geometry\u001b[0m\u001b[0;34m.\u001b[0m\u001b[0mpanels\u001b[0m\u001b[0;34m[\u001b[0m\u001b[0;36m0\u001b[0m\u001b[0;34m]\u001b[0m\u001b[0;34m.\u001b[0m\u001b[0mserialize\u001b[0m\u001b[0;34m(\u001b[0m\u001b[0;34m)\u001b[0m\u001b[0;34m\u001b[0m\u001b[0;34m\u001b[0m\u001b[0m\n\u001b[0m",
      "\u001b[0;31mAttributeError\u001b[0m: 'DetectorPanel' object has no attribute 'serialize'"
     ]
    }
   ],
   "source": [
    "detector_geometry.serialize"
   ]
  },
  {
   "cell_type": "code",
   "execution_count": null,
   "metadata": {},
   "outputs": [],
   "source": []
  }
 ],
 "metadata": {
  "kernelspec": {
   "display_name": "Python 3",
   "language": "python",
   "name": "python3"
  },
  "language_info": {
   "codemirror_mode": {
    "name": "ipython",
    "version": 3
   },
   "file_extension": ".py",
   "mimetype": "text/x-python",
   "name": "python",
   "nbconvert_exporter": "python",
   "pygments_lexer": "ipython3",
   "version": "3.6.10"
  }
 },
 "nbformat": 4,
 "nbformat_minor": 4
}
