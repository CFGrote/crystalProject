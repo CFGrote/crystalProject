{
 "cells": [
  {
   "cell_type": "code",
   "execution_count": 10,
   "metadata": {},
   "outputs": [],
   "source": [
    "from timeit import default_timer as timer\n",
    "import os,shutil\n",
    "from SimEx import *\n",
    "os.environ['PATH'] = '/opt/crystfel/bin/:'+os.environ['PATH'] "
   ]
  },
  {
   "cell_type": "code",
   "execution_count": 11,
   "metadata": {},
   "outputs": [
    {
     "name": "stdout",
     "output_type": "stream",
     "text": [
      "/opt/crystfel/bin/:/opt/crystfel/bin/:/home/juncheng/.conda/envs/simex/bin:/software/anaconda3/5.2/condabin:/software/anaconda3/5.2/bin:/opt/texlive/2019/bin/x86_64-linux:/sbin:/bin:/usr/sbin:/usr/bin\n"
     ]
    }
   ],
   "source": [
    "print (os.environ['PATH'])"
   ]
  },
  {
   "cell_type": "markdown",
   "metadata": {},
   "source": [
    "## Data path setting"
   ]
  },
  {
   "cell_type": "code",
   "execution_count": 12,
   "metadata": {},
   "outputs": [
    {
     "data": {
      "text/plain": [
       "'/gpfs/exfel/data/user/juncheng/crystalProject/data/simulation'"
      ]
     },
     "execution_count": 12,
     "metadata": {},
     "output_type": "execute_result"
    }
   ],
   "source": [
    "data_path = '/gpfs/exfel/data/user/juncheng/crystalProject/data/simulation/'\n",
    "out_path = \"xstal/xstal_diffr_1\"\n",
    "# Remove previous results\n",
    "shutil.rmtree(data_path+out_path,True)\n",
    "os.chdir(data_path)\n",
    "os.getcwd()"
   ]
  },
  {
   "cell_type": "markdown",
   "metadata": {},
   "source": [
    "## Configure photon beam properties"
   ]
  },
  {
   "cell_type": "code",
   "execution_count": 13,
   "metadata": {},
   "outputs": [],
   "source": [
    "beamParam = PhotonBeamParameters(\n",
    "    photon_energy = 4972.0 * electronvolt,  # photon energy in eV\n",
    "    beam_diameter_fwhm=130e-9 * meter,      # focus diameter in m\n",
    "    pulse_energy=100e-3 * joule,           # pulse energy in J\n",
    "    photon_energy_relative_bandwidth=0.003, # relative bandwidth dE/E\n",
    "    divergence=0.0 * radian,                # Beam divergence in rad\n",
    "    photon_energy_spectrum_type='tophat',   # Spectrum type. Acceptable values are \"tophat\", \"SASE\", and \"twocolor\")\n",
    "    )"
   ]
  },
  {
   "cell_type": "markdown",
   "metadata": {},
   "source": [
    "## Configure detector geometry"
   ]
  },
  {
   "cell_type": "code",
   "execution_count": 14,
   "metadata": {},
   "outputs": [],
   "source": [
    "panel = DetectorPanel(ranges={\"fast_scan_min\" : 0, \"fast_scan_max\" : 999,\n",
    "                              \"slow_scan_min\" : 0, \"slow_scan_max\" : 999},\n",
    "                      pixel_size=220.0e-6*meter,\n",
    "                      energy_response=1.0/electronvolt,\n",
    "                      distance_from_interaction_plane=0.13*meter,\n",
    "                      corners={\"x\" : -500, \"y\": -500},\n",
    "                      saturation_adu=1.e6,\n",
    "                      )\n",
    "detector_geometry = DetectorGeometry(panels=panel)"
   ]
  },
  {
   "cell_type": "markdown",
   "metadata": {},
   "source": [
    "## Set diffractor parameters and pass beam & detector parameters to diffractor"
   ]
  },
  {
   "cell_type": "code",
   "execution_count": 15,
   "metadata": {},
   "outputs": [
    {
     "name": "stdout",
     "output_type": "stream",
     "text": [
      "Checking presence of 3WUL.pdb. Will query from PDB if not found in $PWD.\n",
      "Sample path is set to 3WUL.pdb.\n"
     ]
    }
   ],
   "source": [
    "diffParam = CrystFELPhotonDiffractorParameters(\n",
    "    sample='3WUL.pdb',                    # Looks up pdb file in cwd, if not found, queries from RCSB pdb mirror.\n",
    "    uniform_rotation=True,                # Apply random rotation\n",
    "    number_of_diffraction_patterns=1,   #\n",
    "    powder=False,                         # Set to True to create a virtual powder diffraction pattern (unested)\n",
    "    intensities_file=None,                # File that contains reflection intensities. If set to none, use uniform intensity distribution\n",
    "    crystal_size_range=[1e-7,1e-7],       # Range ([min,max]) in units of metres of crystal size.\n",
    "    poissonize=False,                     # Set to True to add Poisson noise.\n",
    "    number_of_background_photons=0,       # Change number to add uniformly distributed background photons.\n",
    "    suppress_fringes=False,               # Set to True to suppress side maxima between reflection peaks.\n",
    "    beam_parameters=beamParam,                 # Beam parameters object from above\n",
    "    detector_geometry=detector_geometry,      # External file that contains the detector geometry in CrystFEL notation.\n",
    "    )\n",
    "\n",
    "diffractor = CrystFELPhotonDiffractor(\n",
    "    parameters=diffParam,\n",
    "    output_path=out_path)"
   ]
  },
  {
   "cell_type": "markdown",
   "metadata": {},
   "source": [
    "## Launch simulation"
   ]
  },
  {
   "cell_type": "code",
   "execution_count": 16,
   "metadata": {},
   "outputs": [
    {
     "name": "stdout",
     "output_type": "stream",
     "text": [
      "['pattern_sim', '-p3WUL.pdb', '--geometry=/tmp/tmpj2wfal6a.geom', '--output=/gpfs/exfel/data/user/juncheng/crystalProject/data/simulation/xstal/xstal_diffr_1/diffr_out_0000001.h5', '--number=1', '--random-orientation', '--really-random', '--photon-energy=4972.000000', '--beam-bandwidth=0.003000', '--nphotons=1.255332e+14', '--beam-radius=6.500000e-08', '--spectrum=tophat']\n"
     ]
    },
    {
     "data": {
      "text/plain": [
       "127"
      ]
     },
     "execution_count": 16,
     "metadata": {},
     "output_type": "execute_result"
    }
   ],
   "source": [
    "diffractor.backengine()\n",
    "diffractor.saveH5()"
   ]
  },
  {
   "cell_type": "markdown",
   "metadata": {},
   "source": [
    "## Analysis"
   ]
  },
  {
   "cell_type": "code",
   "execution_count": 17,
   "metadata": {},
   "outputs": [
    {
     "data": {
      "image/png": "[encoded data removed]",
      "text/plain": [
       "<Figure size 432x288 with 2 Axes>"
      ]
     },
     "metadata": {
      "needs_background": "light"
     },
     "output_type": "display_data"
    }
   ],
   "source": [
    "analysis = DiffractionAnalysis(diffractor.output_path)\n",
    "analysis.plotPattern()"
   ]
  }
 ],
 "metadata": {
  "kernelspec": {
   "display_name": "Python [conda env:simex]",
   "language": "python",
   "name": "conda-env-simex-py"
  },
  "language_info": {
   "codemirror_mode": {
    "name": "ipython",
    "version": 3
   },
   "file_extension": ".py",
   "mimetype": "text/x-python",
   "name": "python",
   "nbconvert_exporter": "python",
   "pygments_lexer": "ipython3",
   "version": "3.6.7"
  }
 },
 "nbformat": 4,
 "nbformat_minor": 2
}
