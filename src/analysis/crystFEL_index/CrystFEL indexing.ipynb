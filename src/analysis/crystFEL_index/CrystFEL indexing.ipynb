{
 "cells": [
  {
   "cell_type": "code",
   "execution_count": 1,
   "metadata": {},
   "outputs": [],
   "source": [
    "%matplotlib inline\n",
    "import io\n",
    "import h5py\n",
    "from h5glance import H5Glance\n",
    "import matplotlib.pyplot as plt\n",
    "import numpy as np\n",
    "import os\n",
    "import os.path as osp\n",
    "import pandas as pd\n",
    "\n",
    "from cfel_geom import CrystfelGeom  # Local file - move to EXtra-geom later"
   ]
  },
  {
   "cell_type": "markdown",
   "metadata": {},
   "source": [
    "## Input data"
   ]
  },
  {
   "cell_type": "code",
   "execution_count": 2,
   "metadata": {},
   "outputs": [],
   "source": [
    "# TODO: use a relative path to data generated in this folder\n",
    "data_file = \"/gpfs/exfel/data/user/juncheng/crystalProject/data/simulation/xstal/xstal_diffr200.h5\""
   ]
  },
  {
   "cell_type": "code",
   "execution_count": 3,
   "metadata": {},
   "outputs": [],
   "source": [
    "f = h5py.File(data_file, 'r')"
   ]
  },
  {
   "cell_type": "code",
   "execution_count": 4,
   "metadata": {},
   "outputs": [
    {
     "data": {
      "text/html": [
       "<div><style>/* Based on https://css-tricks.com/snippets/css/nested-expandable-folders/\n",
       "   Reused with permission from https://css-tricks.com/license/\n",
       "*/\n",
       "\n",
       ".h5glance-css-treeview ul,\n",
       ".h5glance-css-treeview li\n",
       "{\n",
       "\tpadding: 0;\n",
       "\tmargin: 0;\n",
       "    margin-left: 12px;\n",
       "\tlist-style: none;\n",
       "}\n",
       "\n",
       "/* Override padding from Jupyter CSS */\n",
       ".rendered_html .h5glance-css-treeview ul {\n",
       "    padding: 0;\n",
       "}\n",
       "\n",
       "/* Make the checkbox itself invisible */\n",
       ".h5glance-css-treeview input\n",
       "{\n",
       "\tposition: absolute;\n",
       "\topacity: 0;\n",
       "}\n",
       "\n",
       ".h5glance-css-treeview\n",
       "{\n",
       "    font-family: sans-serif;\n",
       "\t-moz-user-select: none;\n",
       "\t-webkit-user-select: none;\n",
       "\tuser-select: none;\n",
       "}\n",
       "\n",
       ".h5glance-css-treeview code {\n",
       "    font-size: 12pt;\n",
       "    font-family: \"courier\", monospace;\n",
       "}\n",
       "\n",
       ".h5glance-css-treeview a.h5glance-dataset-copylink\n",
       "{\n",
       "    text-decoration: none;\n",
       "}\n",
       "\n",
       "/* These next two bits drive the expanding/collapsing behaviour */\n",
       ".h5glance-css-treeview input + label + ul\n",
       "{\n",
       "\tdisplay: none;\n",
       "}\n",
       "\n",
       ".h5glance-css-treeview input:checked:not(:disabled) + label + ul\n",
       "{\n",
       "\tdisplay: block;\n",
       "}\n",
       "\n",
       ".h5glance-css-treeview label,\n",
       ".h5glance-css-treeview label::before\n",
       "{\n",
       "\tdisplay: inline-block;\n",
       "\theight: 16px;\n",
       "\tline-height: 16px;,\n",
       "\tvertical-align: middle;\n",
       "}\n",
       "\n",
       ".h5glance-css-treeview label\n",
       "{\n",
       "    margin-left: -1.5em;\n",
       "}\n",
       "\n",
       ".h5glance-css-treeview label::before\n",
       "{\n",
       "\tcontent: \"\\229e\"; /* squared plus */\n",
       "\twidth: 1.5em;\n",
       "\tvertical-align: middle;\n",
       "}\n",
       "\n",
       ".h5glance-css-treeview input:checked + label::before\n",
       "{\n",
       "    content: \"\\229f\";  /* squared minus */\n",
       "}\n",
       "\n",
       "/* webkit adjacent element selector bugfix */\n",
       "@media screen and (-webkit-min-device-pixel-ratio:0)\n",
       "{\n",
       "\t.h5glance-css-treeview\n",
       "\t{\n",
       "\t\t-webkit-animation: webkit-adjacent-element-selector-bugfix infinite 1s;\n",
       "\t}\n",
       "\n",
       "\t@-webkit-keyframes webkit-adjacent-element-selector-bugfix\n",
       "\t{\n",
       "\t\tfrom\n",
       "\t\t{\n",
       "\t\t\tpadding: 0;\n",
       "\t\t}\n",
       "\t\tto\n",
       "\t\t{\n",
       "\t\t\tpadding: 0;\n",
       "\t\t}\n",
       "\t}\n",
       "}\n",
       "\n",
       ".h5glance-css-treeview li.h5glance-dataset {\n",
       "    margin-bottom: 3px;\n",
       "}\n",
       "\n",
       ".h5glance-dataset-name {\n",
       "    font-weight: bold;\n",
       "}\n",
       "</style><div id=\"h5glance-container-0\" class=\"h5glance-css-treeview\"><ul><li><input checked=\"checked\" id=\"h5glance-expand-switch-0\" type=\"checkbox\"/><label for=\"h5glance-expand-switch-0\">/data/0000001</label><ul><li class=\"h5glance-dataset\"><span class=\"h5glance-dataset-name\">data</span> <a data-hdf5-path=\"/data/data\" href=\"#\" class=\"h5glance-dataset-copylink\">[📋]</a>: 1000 × 1000 entries, dtype: <abbr title=\"32-bit floating point\"><code>&lt;f4</code></abbr></li></ul></li></ul></div><script>// Based on code by Stackoverflow user Dean Taylor\n",
       "// https://stackoverflow.com/questions/400212/how-do-i-copy-to-the-clipboard-in-javascript/30810322\n",
       "// Used under Stackoverflow's CC-BY-SA 3.0 license\n",
       "\n",
       "(function() {\n",
       "    function copyTextToClipboard(text) {\n",
       "        let textArea = document.createElement(\"textarea\");\n",
       "\n",
       "        //\n",
       "        // *** This styling is an extra step which is likely not required. ***\n",
       "        //\n",
       "        // Why is it here? To ensure:\n",
       "        // 1. the element is able to have focus and selection.\n",
       "        // 2. if element was to flash render it has minimal visual impact.\n",
       "        // 3. less flakyness with selection and copying which **might** occur if\n",
       "        //    the textarea element is not visible.\n",
       "        //\n",
       "        // The likelihood is the element won't even render, not even a flash,\n",
       "        // so some of these are just precautions. However in IE the element\n",
       "        // is visible whilst the popup box asking the user for permission for\n",
       "        // the web page to copy to the clipboard.\n",
       "        //\n",
       "\n",
       "        // Place in top-left corner of screen regardless of scroll position.\n",
       "        textArea.style.position = 'fixed';\n",
       "        textArea.style.top = 0;\n",
       "        textArea.style.left = 0;\n",
       "\n",
       "        // Ensure it has a small width and height. Setting to 1px / 1em\n",
       "        // doesn't work as this gives a negative w/h on some browsers.\n",
       "        textArea.style.width = '2em';\n",
       "        textArea.style.height = '2em';\n",
       "\n",
       "        // We don't need padding, reducing the size if it does flash render.\n",
       "        textArea.style.padding = 0;\n",
       "\n",
       "        // Clean up any borders.\n",
       "        textArea.style.border = 'none';\n",
       "        textArea.style.outline = 'none';\n",
       "        textArea.style.boxShadow = 'none';\n",
       "\n",
       "        // Avoid flash of white box if rendered for any reason.\n",
       "        textArea.style.background = 'transparent';\n",
       "\n",
       "\n",
       "        textArea.value = text;\n",
       "\n",
       "        document.body.appendChild(textArea);\n",
       "        textArea.focus();\n",
       "        textArea.select();\n",
       "\n",
       "        try {\n",
       "            if (!document.execCommand('copy')) {\n",
       "                console.log(\"Unable to copy text with document.execCommand()\");\n",
       "            }\n",
       "        } finally {\n",
       "            document.body.removeChild(textArea);\n",
       "        }\n",
       "    }\n",
       "\n",
       "    function copy_event_handler(event) {\n",
       "        copyTextToClipboard(event.target.dataset.hdf5Path);\n",
       "        event.preventDefault();\n",
       "    }\n",
       "\n",
       "    function enable_copylinks(parent) {\n",
       "        let links = parent.querySelectorAll(\".h5glance-dataset-copylink\");\n",
       "        links.forEach(function (link) {\n",
       "            link.addEventListener(\"click\", copy_event_handler);\n",
       "        });\n",
       "    }\n",
       "\n",
       "    // The code to actually trigger this is substituted below.\n",
       "    \n",
       "enable_copylinks(document.getElementById(\"h5glance-container-0\"));\n",
       "\n",
       "})();\n",
       "</script></div>"
      ],
      "text/plain": [
       "<h5glance.generate.H5Glance at 0x2b215b16e198>"
      ]
     },
     "execution_count": 4,
     "metadata": {},
     "output_type": "execute_result"
    }
   ],
   "source": [
    "H5Glance(f['data/0000001'])"
   ]
  },
  {
   "cell_type": "markdown",
   "metadata": {},
   "source": [
    "Here's one frame from the simulation:"
   ]
  },
  {
   "cell_type": "code",
   "execution_count": 5,
   "metadata": {},
   "outputs": [
    {
     "data": {
      "text/plain": [
       "<matplotlib.axes._subplots.AxesSubplot at 0x2b218591f5f8>"
      ]
     },
     "execution_count": 5,
     "metadata": {},
     "output_type": "execute_result"
    },
    {
     "data": {
      "image/png": "[encoded data removed]",
      "text/plain": [
       "<Figure size 864x720 with 2 Axes>"
      ]
     },
     "metadata": {
      "needs_background": "light"
     },
     "output_type": "display_data"
    }
   ],
   "source": [
    "geom = CrystfelGeom.from_crystfel_geom('tmp.geom')\n",
    "frame = f['data/0000001/data'][:]\n",
    "fig, ax = plt.subplots(figsize=(12, 10))\n",
    "geom.plot_data_fast(frame[np.newaxis], axis_units='m', ax=ax)"
   ]
  },
  {
   "cell_type": "markdown",
   "metadata": {},
   "source": [
    "## Running CrystFEL"
   ]
  },
  {
   "cell_type": "code",
   "execution_count": 6,
   "metadata": {},
   "outputs": [],
   "source": [
    "with open('test.lst', 'w') as f:\n",
    "    f.write(f'{data_file}\\n')"
   ]
  },
  {
   "cell_type": "code",
   "execution_count": 7,
   "metadata": {},
   "outputs": [
    {
     "name": "stderr",
     "output_type": "stream",
     "text": [
      " - EXFEL modulepath enabled\n",
      "Using version 1.10.4 of HDF5\n",
      "Using version 1.17 of DirAx\n",
      "Using XDS BUILT 20180126\n",
      "Unrecognised field 'px'\n",
      "Unrecognised field 'py'\n",
      "Unrecognised field 'pix_width'\n",
      "Unrecognised field 'd'\n",
      "WARNING: You did not specify --int-radius.\n",
      "WARNING: I will use the default values, which are probably not appropriate for your patterns.\n",
      "No indexing methods specified.  I will try to automatically detect the available methods.\n",
      "To disable auto-detection of indexing methods, specify which methods to use with --indexing=<methods>.\n",
      "Use --indexing=none to disable indexing and integration.\n",
      "This is what I understood your unit cell to be:\n",
      "tetragonal P, unique axis c, right handed.\n",
      "a      b      c            alpha   beta  gamma\n",
      " 78.92  78.92  37.88 A     90.00  90.00  90.00 deg\n",
      "a =  7.892e-09  0.000e+00  0.000e+00 m\n",
      "b =  4.832e-25  7.892e-09  0.000e+00 m\n",
      "c =  2.319e-25  2.319e-25  3.788e-09 m\n",
      "a* =  1.267e+08 -7.759e-09 -7.759e-09 m^-1 (modulus  1.267e+08 m^-1)\n",
      "b* =  0.000e+00  1.267e+08 -7.759e-09 m^-1 (modulus  1.267e+08 m^-1)\n",
      "c* =  0.000e+00  0.000e+00  2.640e+08 m^-1 (modulus  2.640e+08 m^-1)\n",
      "alpha* =  90.00 deg, beta* =  90.00 deg, gamma* =  90.00 deg\n",
      "Cell representation is crystallographic, direct space.\n",
      "List of indexing methods:\n",
      "   0: asdf-nolatt-cell          (asdf using cell parameters as prior information)\n",
      "Indexing parameters:\n",
      "                  Check unit cell parameters: on (axis combinations)\n",
      "                        Check peak alignment: on\n",
      "                   Refine indexing solutions: on\n",
      " Multi-lattice indexing (\"delete and retry\"): off\n",
      "                              Retry indexing: on\n",
      "Error: Data path ends with a / symbol\n",
      "   1 indexable out of    1 processed (100.0%),    1 crystals so far.    1 images processed since the last message.\n",
      "  27 indexable out of   27 processed (100.0%),   27 crystals so far.   26 images processed since the last message.\n",
      "  51 indexable out of   51 processed (100.0%),   51 crystals so far.   24 images processed since the last message.\n",
      "  80 indexable out of   80 processed (100.0%),   80 crystals so far.   29 images processed since the last message.\n",
      " 107 indexable out of  107 processed (100.0%),  107 crystals so far.   27 images processed since the last message.\n",
      " 136 indexable out of  136 processed (100.0%),  136 crystals so far.   29 images processed since the last message.\n",
      " 166 indexable out of  166 processed (100.0%),  166 crystals so far.   30 images processed since the last message.\n",
      " 196 indexable out of  196 processed (100.0%),  196 crystals so far.   30 images processed since the last message.\n",
      "Waiting for the last patterns to be processed...\n",
      "Final: 200 images processed, 200 had crystals (100.0%), 200 crystals overall.\n",
      "\n",
      "real\t0m48.725s\n",
      "user\t0m41.626s\n",
      "sys\t0m1.013s\n"
     ]
    }
   ],
   "source": [
    "%%bash\n",
    "source /usr/share/Modules/init/bash\n",
    "module load exfel exfel_crystfel\n",
    "\n",
    "time indexamajig -i test.lst -g tmp.geom -o out.stream --peaks=zaef -p ./lysozyme-opt.cell"
   ]
  },
  {
   "cell_type": "markdown",
   "metadata": {},
   "source": [
    "## Identified peaks"
   ]
  },
  {
   "cell_type": "code",
   "execution_count": 8,
   "metadata": {},
   "outputs": [],
   "source": [
    "def read_stream_table(fh, end_marker):\n",
    "    buf = io.StringIO()\n",
    "    for line in fh:\n",
    "        if line.startswith(end_marker):\n",
    "            buf.seek(0)\n",
    "            return pd.read_fwf(buf)\n",
    "        \n",
    "        buf.write(line)"
   ]
  },
  {
   "cell_type": "code",
   "execution_count": 9,
   "metadata": {},
   "outputs": [],
   "source": [
    "stream_chunks = {}\n",
    "\n",
    "with open('out.stream', 'r') as f:\n",
    "    in_peaks_table = False\n",
    "    chunk_data = {}\n",
    "    for line in f:\n",
    "        if '-- Begin chunk --' in line:\n",
    "            chunk_data = {}\n",
    "        elif '-- End chunk --' in line:\n",
    "            if 'event' in chunk_data:\n",
    "                stream_chunks[chunk_data['event']] = chunk_data\n",
    "        \n",
    "        elif line.startswith('Event:'):\n",
    "            chunk_data['event'] = line.split(':', 1)[1].strip()\n",
    "        \n",
    "        elif line.startswith('Peaks from peak search'):\n",
    "            chunk_data['peaks'] = read_stream_table(f, 'End of peak list')"
   ]
  },
  {
   "cell_type": "code",
   "execution_count": 10,
   "metadata": {},
   "outputs": [],
   "source": [
    "peak_tbl = stream_chunks['0000001//']['peaks']"
   ]
  },
  {
   "cell_type": "code",
   "execution_count": 11,
   "metadata": {},
   "outputs": [],
   "source": [
    "module_no = np.zeros(len(peak_tbl), dtype=np.uint32)\n",
    "peak_coords = geom.data_coords_to_positions(module_no, peak_tbl['ss/px'], peak_tbl['fs/px'])\n",
    "peak_x = peak_coords[:, 0]\n",
    "peak_y = peak_coords[:, 1]"
   ]
  },
  {
   "cell_type": "code",
   "execution_count": 12,
   "metadata": {
    "scrolled": false
   },
   "outputs": [
    {
     "data": {
      "image/png": "[encoded data removed]",
      "text/plain": [
       "<Figure size 864x720 with 2 Axes>"
      ]
     },
     "metadata": {
      "needs_background": "light"
     },
     "output_type": "display_data"
    }
   ],
   "source": [
    "fig, ax = plt.subplots(figsize=(12,10))\n",
    "geom.plot_data_fast(frame[np.newaxis], axis_units='m', ax=ax)\n",
    "ax.scatter(peak_x, peak_y, s=30, marker='o', facecolor='none', edgecolor='0.5');"
   ]
  },
  {
   "cell_type": "markdown",
   "metadata": {},
   "source": [
    "## Examine unit cell parameters"
   ]
  },
  {
   "cell_type": "code",
   "execution_count": 13,
   "metadata": {},
   "outputs": [],
   "source": [
    "from CrystFEL_Jupyter_utilities.stream_read import search_crystals_parameters"
   ]
  },
  {
   "cell_type": "code",
   "execution_count": 14,
   "metadata": {},
   "outputs": [
    {
     "data": {
      "text/html": [
       "<div>\n",
       "<style scoped>\n",
       "    .dataframe tbody tr th:only-of-type {\n",
       "        vertical-align: middle;\n",
       "    }\n",
       "\n",
       "    .dataframe tbody tr th {\n",
       "        vertical-align: top;\n",
       "    }\n",
       "\n",
       "    .dataframe thead th {\n",
       "        text-align: right;\n",
       "    }\n",
       "</style>\n",
       "<table border=\"1\" class=\"dataframe\">\n",
       "  <thead>\n",
       "    <tr style=\"text-align: right;\">\n",
       "      <th></th>\n",
       "      <th>a</th>\n",
       "      <th>b</th>\n",
       "      <th>c</th>\n",
       "      <th>alpha</th>\n",
       "      <th>beta</th>\n",
       "      <th>gamma</th>\n",
       "      <th>centering</th>\n",
       "      <th>lattice_type</th>\n",
       "      <th>unique_axis</th>\n",
       "    </tr>\n",
       "  </thead>\n",
       "  <tbody>\n",
       "    <tr>\n",
       "      <td>0</td>\n",
       "      <td>78.887988</td>\n",
       "      <td>78.976084</td>\n",
       "      <td>38.071282</td>\n",
       "      <td>90.063806</td>\n",
       "      <td>90.135002</td>\n",
       "      <td>89.822055</td>\n",
       "      <td>P</td>\n",
       "      <td>tetragonal</td>\n",
       "      <td>c</td>\n",
       "    </tr>\n",
       "    <tr>\n",
       "      <td>1</td>\n",
       "      <td>78.908772</td>\n",
       "      <td>78.996151</td>\n",
       "      <td>38.030696</td>\n",
       "      <td>89.983891</td>\n",
       "      <td>90.003045</td>\n",
       "      <td>90.022189</td>\n",
       "      <td>P</td>\n",
       "      <td>tetragonal</td>\n",
       "      <td>c</td>\n",
       "    </tr>\n",
       "    <tr>\n",
       "      <td>2</td>\n",
       "      <td>78.968535</td>\n",
       "      <td>78.970516</td>\n",
       "      <td>37.987301</td>\n",
       "      <td>90.003275</td>\n",
       "      <td>90.210985</td>\n",
       "      <td>89.809684</td>\n",
       "      <td>P</td>\n",
       "      <td>tetragonal</td>\n",
       "      <td>c</td>\n",
       "    </tr>\n",
       "    <tr>\n",
       "      <td>3</td>\n",
       "      <td>78.929017</td>\n",
       "      <td>78.995467</td>\n",
       "      <td>38.012678</td>\n",
       "      <td>90.013896</td>\n",
       "      <td>89.982137</td>\n",
       "      <td>90.141586</td>\n",
       "      <td>P</td>\n",
       "      <td>tetragonal</td>\n",
       "      <td>c</td>\n",
       "    </tr>\n",
       "    <tr>\n",
       "      <td>4</td>\n",
       "      <td>78.954010</td>\n",
       "      <td>79.044610</td>\n",
       "      <td>38.005367</td>\n",
       "      <td>89.901781</td>\n",
       "      <td>90.062258</td>\n",
       "      <td>90.045065</td>\n",
       "      <td>P</td>\n",
       "      <td>tetragonal</td>\n",
       "      <td>c</td>\n",
       "    </tr>\n",
       "    <tr>\n",
       "      <td>...</td>\n",
       "      <td>...</td>\n",
       "      <td>...</td>\n",
       "      <td>...</td>\n",
       "      <td>...</td>\n",
       "      <td>...</td>\n",
       "      <td>...</td>\n",
       "      <td>...</td>\n",
       "      <td>...</td>\n",
       "      <td>...</td>\n",
       "    </tr>\n",
       "    <tr>\n",
       "      <td>195</td>\n",
       "      <td>79.166326</td>\n",
       "      <td>78.921123</td>\n",
       "      <td>37.988565</td>\n",
       "      <td>89.934813</td>\n",
       "      <td>89.965382</td>\n",
       "      <td>90.086312</td>\n",
       "      <td>P</td>\n",
       "      <td>tetragonal</td>\n",
       "      <td>c</td>\n",
       "    </tr>\n",
       "    <tr>\n",
       "      <td>196</td>\n",
       "      <td>79.101091</td>\n",
       "      <td>78.864094</td>\n",
       "      <td>38.039911</td>\n",
       "      <td>89.907264</td>\n",
       "      <td>89.805083</td>\n",
       "      <td>90.104502</td>\n",
       "      <td>P</td>\n",
       "      <td>tetragonal</td>\n",
       "      <td>c</td>\n",
       "    </tr>\n",
       "    <tr>\n",
       "      <td>197</td>\n",
       "      <td>78.956023</td>\n",
       "      <td>78.954766</td>\n",
       "      <td>38.016699</td>\n",
       "      <td>90.002694</td>\n",
       "      <td>89.807689</td>\n",
       "      <td>89.956517</td>\n",
       "      <td>P</td>\n",
       "      <td>tetragonal</td>\n",
       "      <td>c</td>\n",
       "    </tr>\n",
       "    <tr>\n",
       "      <td>198</td>\n",
       "      <td>79.043379</td>\n",
       "      <td>78.941187</td>\n",
       "      <td>37.989285</td>\n",
       "      <td>90.002756</td>\n",
       "      <td>89.979023</td>\n",
       "      <td>89.896852</td>\n",
       "      <td>P</td>\n",
       "      <td>tetragonal</td>\n",
       "      <td>c</td>\n",
       "    </tr>\n",
       "    <tr>\n",
       "      <td>199</td>\n",
       "      <td>79.001102</td>\n",
       "      <td>78.998616</td>\n",
       "      <td>38.030981</td>\n",
       "      <td>90.014641</td>\n",
       "      <td>90.014808</td>\n",
       "      <td>89.999231</td>\n",
       "      <td>P</td>\n",
       "      <td>tetragonal</td>\n",
       "      <td>c</td>\n",
       "    </tr>\n",
       "  </tbody>\n",
       "</table>\n",
       "<p>200 rows × 9 columns</p>\n",
       "</div>"
      ],
      "text/plain": [
       "             a          b          c      alpha       beta      gamma  \\\n",
       "0    78.887988  78.976084  38.071282  90.063806  90.135002  89.822055   \n",
       "1    78.908772  78.996151  38.030696  89.983891  90.003045  90.022189   \n",
       "2    78.968535  78.970516  37.987301  90.003275  90.210985  89.809684   \n",
       "3    78.929017  78.995467  38.012678  90.013896  89.982137  90.141586   \n",
       "4    78.954010  79.044610  38.005367  89.901781  90.062258  90.045065   \n",
       "..         ...        ...        ...        ...        ...        ...   \n",
       "195  79.166326  78.921123  37.988565  89.934813  89.965382  90.086312   \n",
       "196  79.101091  78.864094  38.039911  89.907264  89.805083  90.104502   \n",
       "197  78.956023  78.954766  38.016699  90.002694  89.807689  89.956517   \n",
       "198  79.043379  78.941187  37.989285  90.002756  89.979023  89.896852   \n",
       "199  79.001102  78.998616  38.030981  90.014641  90.014808  89.999231   \n",
       "\n",
       "    centering lattice_type unique_axis  \n",
       "0           P   tetragonal           c  \n",
       "1           P   tetragonal           c  \n",
       "2           P   tetragonal           c  \n",
       "3           P   tetragonal           c  \n",
       "4           P   tetragonal           c  \n",
       "..        ...          ...         ...  \n",
       "195         P   tetragonal           c  \n",
       "196         P   tetragonal           c  \n",
       "197         P   tetragonal           c  \n",
       "198         P   tetragonal           c  \n",
       "199         P   tetragonal           c  \n",
       "\n",
       "[200 rows x 9 columns]"
      ]
     },
     "execution_count": 14,
     "metadata": {},
     "output_type": "execute_result"
    }
   ],
   "source": [
    "params_lst = search_crystals_parameters('out.stream')\n",
    "params = pd.DataFrame(params_lst).drop(columns='name').rename(columns={'alfa': 'alpha'})\n",
    "params"
   ]
  },
  {
   "cell_type": "code",
   "execution_count": 15,
   "metadata": {
    "scrolled": false
   },
   "outputs": [
    {
     "data": {
      "image/png": "[encoded data removed]",
      "text/plain": [
       "<Figure size 864x576 with 6 Axes>"
      ]
     },
     "metadata": {
      "needs_background": "light"
     },
     "output_type": "display_data"
    }
   ],
   "source": [
    "fig, axes = plt.subplots(2, 3, figsize=(12, 8))\n",
    "\n",
    "for name, ax in zip('abc', axes[0]):\n",
    "    ax.set_title(name)\n",
    "    ax.set_xlabel(\"Å\")\n",
    "    ax.hist(params[name])\n",
    "\n",
    "for name, ax in zip(('alpha', 'beta', 'gamma'), axes[1]):\n",
    "    ax.set_title(f\"$\\\\{name}$\")\n",
    "    ax.set_xlabel('degrees')\n",
    "    ax.hist(params[name])\n",
    "\n",
    "fig.tight_layout()"
   ]
  }
 ],
 "metadata": {
  "kernelspec": {
   "display_name": "Python 3",
   "language": "python",
   "name": "python3"
  },
  "language_info": {
   "codemirror_mode": {
    "name": "ipython",
    "version": 3
   },
   "file_extension": ".py",
   "mimetype": "text/x-python",
   "name": "python",
   "nbconvert_exporter": "python",
   "pygments_lexer": "ipython3",
   "version": "3.6.7"
  }
 },
 "nbformat": 4,
 "nbformat_minor": 2
}
